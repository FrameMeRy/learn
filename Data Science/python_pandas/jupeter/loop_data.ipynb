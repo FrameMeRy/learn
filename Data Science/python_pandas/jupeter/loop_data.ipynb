{
 "cells": [
  {
   "cell_type": "code",
   "execution_count": 1,
   "metadata": {},
   "outputs": [],
   "source": [
    "import pandas as pd"
   ]
  },
  {
   "cell_type": "code",
   "execution_count": 10,
   "metadata": {},
   "outputs": [
    {
     "name": "stdout",
     "output_type": "stream",
     "text": [
      "อุณหภูมิ = 30 ล่งผลให้เกิด แดดร้อน\n",
      "อุณหภูมิ = 28 ล่งผลให้เกิด เมฆมาก\n",
      "อุณหภูมิ = 27 ล่งผลให้เกิด ฝนตก\n",
      "อุณหภูมิ = 19 ล่งผลให้เกิด แดดร้อน\n",
      "อุณหภูมิ = 20 ล่งผลให้เกิด เมฆมาก\n",
      "อุณหภูมิ = 25 ล่งผลให้เกิด ฝนตก\n",
      "อุณหภูมิ = 36 ล่งผลให้เกิด ฝนตก\n",
      "อุณหภูมิ = 28 ล่งผลให้เกิด ฝนตก\n",
      "อุณหภูมิ = 17 ล่งผลให้เกิด เมฆมาก\n",
      "อุณหภูมิ = 24 ล่งผลให้เกิด แดดร้อน\n",
      "อุณหภูมิ = 26 ล่งผลให้เกิด ฝนตก\n",
      "อุณหภูมิ = 27 ล่งผลให้เกิด แดดร้อน\n",
      "อุณหภูมิ = 30 ล่งผลให้เกิด แดดร้อน\n",
      "อุณหภูมิ = 31 ล่งผลให้เกิด เมฆมาก\n",
      "อุณหภูมิ = 28 ล่งผลให้เกิด แดดร้อน\n",
      "อุณหภูมิ = 27 ล่งผลให้เกิด แดดร้อน\n",
      "อุณหภูมิ = 20 ล่งผลให้เกิด ฝนตก\n",
      "อุณหภูมิ = 18 ล่งผลให้เกิด ฝนตก\n",
      "อุณหภูมิ = 25 ล่งผลให้เกิด แดดร้อน\n",
      "อุณหภูมิ = 28 ล่งผลให้เกิด เมฆมาก\n",
      "อุณหภูมิ = 25 ล่งผลให้เกิด เมฆมาก\n",
      "อุณหภูมิ = 38 ล่งผลให้เกิด เมฆมาก\n",
      "อุณหภูมิ = 34 ล่งผลให้เกิด ฝนตก\n",
      "อุณหภูมิ = 29 ล่งผลให้เกิด ฝนตก\n",
      "อุณหภูมิ = 34 ล่งผลให้เกิด แดดร้อน\n",
      "อุณหภูมิ = 25 ล่งผลให้เกิด ฝนตก\n",
      "อุณหภูมิ = 28 ล่งผลให้เกิด เมฆมาก\n",
      "อุณหภูมิ = 30 ล่งผลให้เกิด เมฆมาก\n",
      "อุณหภูมิ = 31 ล่งผลให้เกิด ฝนตก\n",
      "อุณหภูมิ = 35 ล่งผลให้เกิด ฝนตก\n"
     ]
    }
   ],
   "source": [
    "df = pd.read_excel(\"../excel/dataupdate.xlsx\",\"weather\",index_col=\"Day\")\n",
    "for idx , row in df.iterrows():\n",
    "    print(\"อุณหภูมิ = {} ล่งผลให้เกิด {}\".format(row.Temperature,row.Event))"
   ]
  },
  {
   "cell_type": "code",
   "execution_count": null,
   "metadata": {},
   "outputs": [],
   "source": []
  },
  {
   "cell_type": "code",
   "execution_count": null,
   "metadata": {},
   "outputs": [],
   "source": []
  }
 ],
 "metadata": {
  "kernelspec": {
   "display_name": "Python 3",
   "language": "python",
   "name": "python3"
  },
  "language_info": {
   "codemirror_mode": {
    "name": "ipython",
    "version": 3
   },
   "file_extension": ".py",
   "mimetype": "text/x-python",
   "name": "python",
   "nbconvert_exporter": "python",
   "pygments_lexer": "ipython3",
   "version": "3.11.4"
  },
  "orig_nbformat": 4
 },
 "nbformat": 4,
 "nbformat_minor": 2
}
