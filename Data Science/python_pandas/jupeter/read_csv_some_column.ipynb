{
 "cells": [
  {
   "cell_type": "code",
   "execution_count": 7,
   "metadata": {},
   "outputs": [],
   "source": [
    "import pandas as pd"
   ]
  },
  {
   "cell_type": "code",
   "execution_count": 8,
   "metadata": {},
   "outputs": [
    {
     "data": {
      "text/html": [
       "<div>\n",
       "<style scoped>\n",
       "    .dataframe tbody tr th:only-of-type {\n",
       "        vertical-align: middle;\n",
       "    }\n",
       "\n",
       "    .dataframe tbody tr th {\n",
       "        vertical-align: top;\n",
       "    }\n",
       "\n",
       "    .dataframe thead th {\n",
       "        text-align: right;\n",
       "    }\n",
       "</style>\n",
       "<table border=\"1\" class=\"dataframe\">\n",
       "  <thead>\n",
       "    <tr style=\"text-align: right;\">\n",
       "      <th></th>\n",
       "      <th>ชื่อสินค้า</th>\n",
       "      <th>หมวดหมู่</th>\n",
       "    </tr>\n",
       "  </thead>\n",
       "  <tbody>\n",
       "    <tr>\n",
       "      <th>0</th>\n",
       "      <td>คีย์บอร์ด</td>\n",
       "      <td>อุปกรณ์คอม</td>\n",
       "    </tr>\n",
       "    <tr>\n",
       "      <th>1</th>\n",
       "      <td>เมาส์</td>\n",
       "      <td>อุปกรณ์คอม</td>\n",
       "    </tr>\n",
       "    <tr>\n",
       "      <th>2</th>\n",
       "      <td>ตุ๊กตา</td>\n",
       "      <td>ของเล่น</td>\n",
       "    </tr>\n",
       "  </tbody>\n",
       "</table>\n",
       "</div>"
      ],
      "text/plain": [
       "  ชื่อสินค้า    หมวดหมู่\n",
       "0  คีย์บอร์ด  อุปกรณ์คอม\n",
       "1      เมาส์  อุปกรณ์คอม\n",
       "2     ตุ๊กตา     ของเล่น"
      ]
     },
     "execution_count": 8,
     "metadata": {},
     "output_type": "execute_result"
    }
   ],
   "source": [
    "cols = [\"ชื่อสินค้า\",\"หมวดหมู่\"]\n",
    "df = pd.read_csv(\"../csv/product.csv\",encoding=\"utf-8\",usecols=cols)\n",
    "df"
   ]
  },
  {
   "cell_type": "code",
   "execution_count": 10,
   "metadata": {},
   "outputs": [
    {
     "data": {
      "text/html": [
       "<div>\n",
       "<style scoped>\n",
       "    .dataframe tbody tr th:only-of-type {\n",
       "        vertical-align: middle;\n",
       "    }\n",
       "\n",
       "    .dataframe tbody tr th {\n",
       "        vertical-align: top;\n",
       "    }\n",
       "\n",
       "    .dataframe thead th {\n",
       "        text-align: right;\n",
       "    }\n",
       "</style>\n",
       "<table border=\"1\" class=\"dataframe\">\n",
       "  <thead>\n",
       "    <tr style=\"text-align: right;\">\n",
       "      <th></th>\n",
       "      <th>หมวดหมู่</th>\n",
       "    </tr>\n",
       "    <tr>\n",
       "      <th>ชื่อสินค้า</th>\n",
       "      <th></th>\n",
       "    </tr>\n",
       "  </thead>\n",
       "  <tbody>\n",
       "    <tr>\n",
       "      <th>คีย์บอร์ด</th>\n",
       "      <td>อุปกรณ์คอม</td>\n",
       "    </tr>\n",
       "    <tr>\n",
       "      <th>เมาส์</th>\n",
       "      <td>อุปกรณ์คอม</td>\n",
       "    </tr>\n",
       "    <tr>\n",
       "      <th>ตุ๊กตา</th>\n",
       "      <td>ของเล่น</td>\n",
       "    </tr>\n",
       "  </tbody>\n",
       "</table>\n",
       "</div>"
      ],
      "text/plain": [
       "              หมวดหมู่\n",
       "ชื่อสินค้า            \n",
       "คีย์บอร์ด   อุปกรณ์คอม\n",
       "เมาส์       อุปกรณ์คอม\n",
       "ตุ๊กตา         ของเล่น"
      ]
     },
     "execution_count": 10,
     "metadata": {},
     "output_type": "execute_result"
    }
   ],
   "source": [
    "cols = [\"ชื่อสินค้า\",\"หมวดหมู่\"]\n",
    "df = pd.read_csv(\"../csv/product.csv\",encoding=\"utf-8\",usecols=cols,index_col=\"ชื่อสินค้า\")\n",
    "df"
   ]
  },
  {
   "cell_type": "code",
   "execution_count": 11,
   "metadata": {},
   "outputs": [
    {
     "data": {
      "text/html": [
       "<div>\n",
       "<style scoped>\n",
       "    .dataframe tbody tr th:only-of-type {\n",
       "        vertical-align: middle;\n",
       "    }\n",
       "\n",
       "    .dataframe tbody tr th {\n",
       "        vertical-align: top;\n",
       "    }\n",
       "\n",
       "    .dataframe thead th {\n",
       "        text-align: right;\n",
       "    }\n",
       "</style>\n",
       "<table border=\"1\" class=\"dataframe\">\n",
       "  <thead>\n",
       "    <tr style=\"text-align: right;\">\n",
       "      <th></th>\n",
       "      <th>Unnamed: 0</th>\n",
       "      <th>หมวดหมู่</th>\n",
       "      <th>ราคา</th>\n",
       "    </tr>\n",
       "    <tr>\n",
       "      <th>ชื่อสินค้า</th>\n",
       "      <th></th>\n",
       "      <th></th>\n",
       "      <th></th>\n",
       "    </tr>\n",
       "  </thead>\n",
       "  <tbody>\n",
       "    <tr>\n",
       "      <th>คีย์บอร์ด</th>\n",
       "      <td>0</td>\n",
       "      <td>อุปกรณ์คอม</td>\n",
       "      <td>500</td>\n",
       "    </tr>\n",
       "    <tr>\n",
       "      <th>เมาส์</th>\n",
       "      <td>1</td>\n",
       "      <td>อุปกรณ์คอม</td>\n",
       "      <td>300</td>\n",
       "    </tr>\n",
       "    <tr>\n",
       "      <th>ตุ๊กตา</th>\n",
       "      <td>2</td>\n",
       "      <td>ของเล่น</td>\n",
       "      <td>900</td>\n",
       "    </tr>\n",
       "  </tbody>\n",
       "</table>\n",
       "</div>"
      ],
      "text/plain": [
       "            Unnamed: 0    หมวดหมู่  ราคา\n",
       "ชื่อสินค้า                              \n",
       "คีย์บอร์ด            0  อุปกรณ์คอม   500\n",
       "เมาส์                1  อุปกรณ์คอม   300\n",
       "ตุ๊กตา               2     ของเล่น   900"
      ]
     },
     "execution_count": 11,
     "metadata": {},
     "output_type": "execute_result"
    }
   ],
   "source": [
    "cols = [\"ชื่อสินค้า\",\"หมวดหมู่\"]\n",
    "df = pd.read_csv(\"../csv/product.csv\",encoding=\"utf-8\",index_col=\"ชื่อสินค้า\")\n",
    "df"
   ]
  }
 ],
 "metadata": {
  "kernelspec": {
   "display_name": "Python 3",
   "language": "python",
   "name": "python3"
  },
  "language_info": {
   "codemirror_mode": {
    "name": "ipython",
    "version": 3
   },
   "file_extension": ".py",
   "mimetype": "text/x-python",
   "name": "python",
   "nbconvert_exporter": "python",
   "pygments_lexer": "ipython3",
   "version": "3.11.4"
  },
  "orig_nbformat": 4
 },
 "nbformat": 4,
 "nbformat_minor": 2
}
